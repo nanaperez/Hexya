{
 "cells": [
  {
   "cell_type": "code",
   "execution_count": 3,
   "metadata": {
    "collapsed": false,
    "deletable": true,
    "editable": true
   },
   "outputs": [
    {
     "data": {
      "image/png": "[encoded data removed]",
      "text/plain": [
       "<matplotlib.figure.Figure at 0x7f45674033c8>"
      ]
     },
     "metadata": {},
     "output_type": "display_data"
    },
    {
     "name": "stdout",
     "output_type": "stream",
     "text": [
      "GANO JUGADOR 1\n",
      "[8, 19, 30, 41, 42, 40, 39, 49, 59, 69, 80, 90, 89, 81, 82, 93, 103, 114, 115, 105, 113, 104, 72, 58, 29]\n"
     ]
    },
    {
     "data": {
      "image/png": "[encoded data removed]",
      "text/plain": [
       "<matplotlib.figure.Figure at 0x7f45674033c8>"
      ]
     },
     "metadata": {},
     "output_type": "display_data"
    }
   ],
   "source": [
    "%matplotlib inline\n",
    "import time\n",
    "import random\n",
    "import pylab as pl\n",
    "from IPython import display\n",
    "from itertools import compress\n",
    "import numpy as np\n",
    "\n",
    "#Tamaño del tamblero\n",
    "tam = 11\n",
    "#Colores de los jugadores\n",
    "colors = ['white','red','blue',]\n",
    "gano = [False,False]\n",
    "inicialesJug1 = [i for i in range(0,tam)]\n",
    "finalesJug1 = [i for i in range(tam**2-tam,tam**2)]\n",
    "finalesJug2 = [i for i in range(tam-1,tam**2,tam)]\n",
    "inicialesJug2 = [i for i in range(0,tam**2,tam)]\n",
    "\n",
    "#Inicialización de la malla\n",
    "x = list(range(0,tam))\n",
    "for i in range(tam-1):\n",
    "    x_aux = x[-tam:]\n",
    "    for j in range(tam):\n",
    "        x_aux[j] += 0.5\n",
    "    x = x + x_aux\n",
    "y = []\n",
    "cont = tam-1\n",
    "for i in range(tam):\n",
    "    for j in range(tam):\n",
    "        y = y + [cont]\n",
    "    cont -= 1\n",
    "\n",
    "#Parametros de la grafica\n",
    "xmax = tam-1 + tam/2\n",
    "xmin = -0.5\n",
    "ymax = tam-1 + 0.5\n",
    "ymin = -0.5\n",
    "pl.xlim(xmin, xmax)\n",
    "pl.ylim(ymin, ymax)\n",
    "\n",
    "#Tamaño de los hexagonos\n",
    "size = (11/tam)**(2)\n",
    "\n",
    "#Inicialización del estado\n",
    "estado = [[0]*tam for i in range(tam)]\n",
    "estadoM = np.array(estado)\n",
    "accionEj = [3,5] #Ejemplo de forma de la accion de salida del agente que pone una ficha en la fila 2 y columna 4\n",
    "\n",
    "#Clase tablero usada para saber cuando algun jugador gana\n",
    "class EstadoJugador:\n",
    "    def __init__(self,name,n):\n",
    "        self.name = name\n",
    "        self.grafo = np.zeros((n*n,n*n))\n",
    "        self.n = n\n",
    "    def Adyacentes(self,posX,posY):\n",
    "        deltaX = [1,-1,0,1,-1,0]\n",
    "        deltaY =[0,0,-1,-1,1,1]\n",
    "        adyaX = []\n",
    "        adyaY = []\n",
    "        for i in range(6):\n",
    "            auxX = posX + deltaX[i]\n",
    "            auxY = posY + deltaY[i]\n",
    "            if (0 <= auxX < self.n) & (0 <= auxY < self.n):\n",
    "                adyaX += [auxX]\n",
    "                adyaY += [auxY]\n",
    "            else:\n",
    "                pass\n",
    "        adya = set()\n",
    "        for i in range(len(adyaX)):\n",
    "            adyaAbs = Pos2Dto1D(adyaX[i],adyaY[i],self.n)\n",
    "            adya.add(adyaAbs)\n",
    "        return adya\n",
    "    def ActualizarGrafo(self,accion):\n",
    "        adya = self.Adyacentes(accion[0],accion[1])\n",
    "        for nodo in adya:\n",
    "            self.grafo[Pos2Dto1D(accion[0],accion[1],self.n),nodo] += 1\n",
    "            self.grafo[nodo,Pos2Dto1D(accion[0],accion[1],self.n)] += 1\n",
    "    def VerEstado(self):\n",
    "        print(self.grafo)\n",
    "    def VerFila(self,fila):\n",
    "        print(self.grafo[fila,:])\n",
    "    def DFS(self,init):\n",
    "        fringe = [init]\n",
    "        visitados = []\n",
    "        while len(fringe):\n",
    "            actual = fringe.pop()\n",
    "            vecinos = np.where(self.grafo[actual,:] == 2)[0]\n",
    "            fringe += list(set(vecinos)-set(visitados)-set(fringe))\n",
    "            visitados += [actual]\n",
    "        return visitados\n",
    "    def Win(self,ini,fin):\n",
    "        win = False\n",
    "        while len(ini):\n",
    "            actual = ini.pop()\n",
    "            visitados = self.DFS(actual)\n",
    "            if set(visitados) & set(fin):\n",
    "                win = visitados\n",
    "                break\n",
    "            ini = list(set(ini) - set(visitados))\n",
    "        return win\n",
    "    \n",
    "def Pos2Dto1D(posX,posY,n):\n",
    "    #pos inicia en 0\n",
    "    pos1D = posX*n+posY\n",
    "    return pos1D\n",
    "def Pos1Dto2D(pos,n):\n",
    "    indices = np.unravel_index(pos, (n,n))\n",
    "    return indices\n",
    "def UnoPorDim(mat,dim):\n",
    "    maximos = mat.max(axis=dim)\n",
    "    if np.sum(maximos) == tam:\n",
    "        return True\n",
    "    else:\n",
    "        return False\n",
    "\n",
    "#Cambio de los indices a 2D\n",
    "ini2D1 = Pos1Dto2D(inicialesJug1,tam)\n",
    "ini2D2 = Pos1Dto2D(inicialesJug2,tam)\n",
    "fin2D1 = Pos1Dto2D(finalesJug1,tam)\n",
    "fin2D2 = Pos1Dto2D(finalesJug2,tam)\n",
    "    \n",
    "\n",
    "lugares = np.random.permutation(tam**2) #para la visualizacion sin angentes y que no se repitan posiciones\n",
    "#Ciclo general del juego, debera ser un while mientras nadie haya ganado o 121 iteraciones\n",
    "jugadorActual = 1 #inicializacion del jugador\n",
    "tableroJug1 = EstadoJugador(\"1\",tam)\n",
    "tableroJug2 = EstadoJugador(\"2\",tam)\n",
    "for i in range(tam**2):\n",
    "\n",
    "    #ASI VA A SER COMO SE LLAMA AL AGENTE DE CADA UNO\n",
    "    if jugadorActual == 1:\n",
    "        #####!! accion = Agente_Nombre1_Nombre2(estado,jugadorActual)\n",
    "         #Para efectos del ejemplo genera una accion aleatoria, esta puede repetir lugar porque esta comentada la parte que lo chequea\n",
    "        accionEj = Pos1Dto2D(lugares[i],tam)\n",
    "        tableroJug1.ActualizarGrafo(accionEj)\n",
    "    else:\n",
    "        #####!! accion = Agente_Nombre3_Nombre4(estado,jugadorActual)\n",
    "         #Para efectos del ejemplo genera una accion aleatoria, esta puede repetir lugar porque esta comentada la parte que lo chequea\n",
    "        accionEj = Pos1Dto2D(lugares[i],tam)\n",
    "        tableroJug2.ActualizarGrafo(accionEj)\n",
    "    \n",
    "    \n",
    "    #Actualizacion del estado del tablero\n",
    "    if estado[accionEj[0]][accionEj[1]] == 0:\n",
    "        estado[accionEj[0]][accionEj[1]] = jugadorActual\n",
    "        estadoM[accionEj[0],accionEj[1]] = jugadorActual\n",
    "            #Actualizacion del grafico\n",
    "        #pl.scatter(x[accionEj[0]+11*accionEj[1]],y[accionEj[0]+11*accionEj[1]], marker='h', s=size*450, color=colors[jugadorActual])\n",
    "        pl.scatter(x[lugares[i]],y[lugares[i]], marker='h', s=size*450, color=colors[jugadorActual])\n",
    "        display.clear_output(wait=True)\n",
    "        display.display(pl.gcf())    \n",
    "    else:\n",
    "        print('ERROR ficha donde ya habia')\n",
    "        break\n",
    "\n",
    "    #ACA SE CHEQUEARIA SI ALGUIEN GANO\n",
    "    if UnoPorDim(estadoM==jugadorActual,jugadorActual%2):\n",
    "        if jugadorActual == 1:\n",
    "            #tableroJug1.VerFila(0)\n",
    "            #tableroJug1.VerEstado()\n",
    "            presentes = list(compress(inicialesJug1,estadoM[ini2D1]==1))\n",
    "            gano[0] = tableroJug1.Win(presentes,finalesJug1)\n",
    "            if gano[0]:\n",
    "                print(\"GANO JUGADOR 1\")\n",
    "                print(gano[0])\n",
    "                for i in gano[0]:\n",
    "                    pl.scatter(x[i],y[i], marker='o', s=size*450, color='orange')\n",
    "                break\n",
    "        else:\n",
    "            presentes = list(compress(inicialesJug2,estadoM[ini2D2]==2))\n",
    "            gano[1] = tableroJug2.Win(presentes,finalesJug2)\n",
    "            if gano[1]:\n",
    "                print(\"GANO JUGADOR 2\")\n",
    "                print(gano[1])\n",
    "                for i in gano[1]:\n",
    "                    pl.scatter(x[i],y[i], marker='o', s=size*450, color='black')\n",
    "                break\n",
    "    \n",
    "\n",
    "    #Cambio de jugados\n",
    "    if (i+1)%2 == 0:\n",
    "        jugadorActual = 2\n",
    "    else:\n",
    "        jugadorActual = 1\n",
    "   "
   ]
  },
  {
   "cell_type": "code",
   "execution_count": 3,
   "metadata": {
    "collapsed": false,
    "deletable": true,
    "editable": true
   },
   "outputs": [
    {
     "name": "stdout",
     "output_type": "stream",
     "text": [
      "0.07544422149658203\n"
     ]
    }
   ],
   "source": [
    "start = time.time()\n",
    "cont = 0\n",
    "for i in range(0,1000000):\n",
    "    cont += 1\n",
    "end = time.time()\n",
    "print(end - start)"
   ]
  },
  {
   "cell_type": "code",
   "execution_count": null,
   "metadata": {
    "collapsed": true,
    "deletable": true,
    "editable": true
   },
   "outputs": [],
   "source": []
  },
  {
   "cell_type": "code",
   "execution_count": null,
   "metadata": {
    "collapsed": true,
    "deletable": true,
    "editable": true
   },
   "outputs": [],
   "source": []
  },
  {
   "cell_type": "code",
   "execution_count": null,
   "metadata": {
    "collapsed": true,
    "deletable": true,
    "editable": true
   },
   "outputs": [],
   "source": []
  },
  {
   "cell_type": "code",
   "execution_count": 1,
   "metadata": {
    "collapsed": false,
    "deletable": true,
    "editable": true
   },
   "outputs": [
    {
     "ename": "SyntaxError",
     "evalue": "invalid syntax (<ipython-input-1-2b6126431252>, line 1)",
     "output_type": "error",
     "traceback": [
      "\u001b[0;36m  File \u001b[0;32m\"<ipython-input-1-2b6126431252>\"\u001b[0;36m, line \u001b[0;32m1\u001b[0m\n\u001b[0;31m    hkjhk''\u001b[0m\n\u001b[0m          ^\u001b[0m\n\u001b[0;31mSyntaxError\u001b[0m\u001b[0;31m:\u001b[0m invalid syntax\n"
     ]
    }
   ],
   "source": [
    "hkjhk''"
   ]
  },
  {
   "cell_type": "code",
   "execution_count": null,
   "metadata": {
    "collapsed": true,
    "deletable": true,
    "editable": true
   },
   "outputs": [],
   "source": []
  }
 ],
 "metadata": {
  "kernelspec": {
   "display_name": "Python 3",
   "language": "python",
   "name": "python3"
  },
  "language_info": {
   "codemirror_mode": {
    "name": "ipython",
    "version": 3
   },
   "file_extension": ".py",
   "mimetype": "text/x-python",
   "name": "python",
   "nbconvert_exporter": "python",
   "pygments_lexer": "ipython3",
   "version": "3.5.2+"
  }
 },
 "nbformat": 4,
 "nbformat_minor": 2
}
